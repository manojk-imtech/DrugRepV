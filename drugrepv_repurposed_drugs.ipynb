{
 "cells": [
  {
   "cell_type": "code",
   "execution_count": 1,
   "metadata": {},
   "outputs": [],
   "source": [
    "import pandas as pd\n",
    "from matplotlib import pyplot as plt\n",
    "from matplotlib_venn import venn2, venn3, venn3_circles\n",
    "from grepfunc import grep\n",
    "import os,sys\n",
    "from Bio import SeqIO"
   ]
  },
  {
   "cell_type": "markdown",
   "metadata": {},
   "source": [
    "## Input drugbank file"
   ]
  },
  {
   "cell_type": "code",
   "execution_count": 2,
   "metadata": {},
   "outputs": [
    {
     "name": "stdout",
     "output_type": "stream",
     "text": [
      "Drugbank_ids    20744\n",
      "Uniprot_ids     20744\n",
      "dtype: int64\n"
     ]
    },
    {
     "data": {
      "text/html": [
       "<div>\n",
       "<style scoped>\n",
       "    .dataframe tbody tr th:only-of-type {\n",
       "        vertical-align: middle;\n",
       "    }\n",
       "\n",
       "    .dataframe tbody tr th {\n",
       "        vertical-align: top;\n",
       "    }\n",
       "\n",
       "    .dataframe thead th {\n",
       "        text-align: right;\n",
       "    }\n",
       "</style>\n",
       "<table border=\"1\" class=\"dataframe\">\n",
       "  <thead>\n",
       "    <tr style=\"text-align: right;\">\n",
       "      <th></th>\n",
       "      <th>Drugbank_ids</th>\n",
       "      <th>Drugs_name</th>\n",
       "      <th>Drug_type</th>\n",
       "    </tr>\n",
       "  </thead>\n",
       "  <tbody>\n",
       "    <tr>\n",
       "      <th>0</th>\n",
       "      <td>DB00001</td>\n",
       "      <td>Lepirudin</td>\n",
       "      <td>BiotechDrug</td>\n",
       "    </tr>\n",
       "    <tr>\n",
       "      <th>1</th>\n",
       "      <td>DB00002</td>\n",
       "      <td>Cetuximab</td>\n",
       "      <td>BiotechDrug</td>\n",
       "    </tr>\n",
       "    <tr>\n",
       "      <th>2</th>\n",
       "      <td>DB00004</td>\n",
       "      <td>Denileukin diftitox</td>\n",
       "      <td>BiotechDrug</td>\n",
       "    </tr>\n",
       "    <tr>\n",
       "      <th>3</th>\n",
       "      <td>DB00005</td>\n",
       "      <td>Etanercept</td>\n",
       "      <td>BiotechDrug</td>\n",
       "    </tr>\n",
       "    <tr>\n",
       "      <th>4</th>\n",
       "      <td>DB00006</td>\n",
       "      <td>Bivalirudin</td>\n",
       "      <td>SmallMoleculeDrug</td>\n",
       "    </tr>\n",
       "  </tbody>\n",
       "</table>\n",
       "</div>"
      ],
      "text/plain": [
       "  Drugbank_ids           Drugs_name          Drug_type\n",
       "0      DB00001            Lepirudin        BiotechDrug\n",
       "1      DB00002            Cetuximab        BiotechDrug\n",
       "2      DB00004  Denileukin diftitox        BiotechDrug\n",
       "3      DB00005           Etanercept        BiotechDrug\n",
       "4      DB00006          Bivalirudin  SmallMoleculeDrug"
      ]
     },
     "execution_count": 2,
     "metadata": {},
     "output_type": "execute_result"
    }
   ],
   "source": [
    "data = pd.read_csv(\"process_drug_uniprot_link_update.txt\", sep=\"\\t\", index_col=False)\n",
    "print(data.count())\n",
    "\n",
    "data1 = pd.read_csv(\"processed_drugs_name_uniq_March2020.txt\", sep=\"\\t\")\n",
    "data1.head()"
   ]
  },
  {
   "cell_type": "markdown",
   "metadata": {},
   "source": [
    "## Input individual virus file"
   ]
  },
  {
   "cell_type": "code",
   "execution_count": 3,
   "metadata": {},
   "outputs": [
    {
     "name": "stdout",
     "output_type": "stream",
     "text": [
      "DrugBank_ids    2\n",
      "Uniprot_id      2\n",
      "dtype: int64\n",
      "  DrugBank_ids                                         Uniprot_id\n",
      "0      DB00398  P35916; P04049; P35968; P15056; P36888; P09619...\n",
      "2      DB00877                             P42345; P62942; P09038\n",
      "DrugBank_ids    3\n",
      "Uniprot_id      3\n",
      "dtype: int64\n",
      "  DrugBank_ids                                         Uniprot_id\n",
      "0      DB00398  P35916; P04049; P35968; P15056; P36888; P09619...\n",
      "2      DB00877                             P42345; P62942; P09038\n"
     ]
    }
   ],
   "source": [
    "input_expt_p = pd.read_csv(\"Done_6639/Rift/updated/pos.txt\", sep=\"\\t\", index_col=False)\n",
    "input_expt_p=input_expt_p.drop_duplicates(subset='DrugBank_ids', keep='first', inplace=False)\n",
    "input_expt_ps=input_expt_p.dropna(subset=['Uniprot_id'])\n",
    "input_expt_pos=input_expt_ps[['DrugBank_ids','Uniprot_id']]\n",
    "print(input_expt_pos.count())\n",
    "print(input_expt_pos)\n",
    "\n",
    "input_expt_n = pd.read_csv(\"Done_6639/Rift/updated/neg.txt\", sep=\"\\t\", index_col=False)\n",
    "input_expt_n=input_expt_n.drop_duplicates(subset='DrugBank_ids', keep='first', inplace=False)\n",
    "input_expt_ng=input_expt_n.dropna(subset=['Uniprot_id'])\n",
    "input_expt_neg=input_expt_ng[['DrugBank_ids','Uniprot_id']]\n",
    "print(input_expt_neg.count())\n",
    "print(input_expt_pos.head())\n",
    "\n",
    "\n"
   ]
  },
  {
   "cell_type": "markdown",
   "metadata": {},
   "source": [
    "## Layer 1 (Positive)"
   ]
  },
  {
   "cell_type": "code",
   "execution_count": 4,
   "metadata": {},
   "outputs": [
    {
     "name": "stdout",
     "output_type": "stream",
     "text": [
      "<class 'list'>\n",
      "0    13\n",
      "dtype: int64\n",
      "0    13\n",
      "dtype: int64\n"
     ]
    },
    {
     "data": {
      "text/html": [
       "<div>\n",
       "<style scoped>\n",
       "    .dataframe tbody tr th:only-of-type {\n",
       "        vertical-align: middle;\n",
       "    }\n",
       "\n",
       "    .dataframe tbody tr th {\n",
       "        vertical-align: top;\n",
       "    }\n",
       "\n",
       "    .dataframe thead th {\n",
       "        text-align: right;\n",
       "    }\n",
       "</style>\n",
       "<table border=\"1\" class=\"dataframe\">\n",
       "  <thead>\n",
       "    <tr style=\"text-align: right;\">\n",
       "      <th></th>\n",
       "      <th>0</th>\n",
       "    </tr>\n",
       "  </thead>\n",
       "  <tbody>\n",
       "    <tr>\n",
       "      <th>0</th>\n",
       "      <td>P35916</td>\n",
       "    </tr>\n",
       "    <tr>\n",
       "      <th>1</th>\n",
       "      <td>P04049</td>\n",
       "    </tr>\n",
       "    <tr>\n",
       "      <th>2</th>\n",
       "      <td>P35968</td>\n",
       "    </tr>\n",
       "    <tr>\n",
       "      <th>3</th>\n",
       "      <td>P15056</td>\n",
       "    </tr>\n",
       "    <tr>\n",
       "      <th>4</th>\n",
       "      <td>P36888</td>\n",
       "    </tr>\n",
       "  </tbody>\n",
       "</table>\n",
       "</div>"
      ],
      "text/plain": [
       "        0\n",
       "0  P35916\n",
       "1  P04049\n",
       "2  P35968\n",
       "3  P15056\n",
       "4  P36888"
      ]
     },
     "execution_count": 4,
     "metadata": {},
     "output_type": "execute_result"
    }
   ],
   "source": [
    "## Input Target ids and extract unique target ids\n",
    "\n",
    "target_ids = input_expt_pos['Uniprot_id']\n",
    "join_line= (','.join(line for line in target_ids))\n",
    "join_line=join_line.replace('; ',',')\n",
    "join_line=join_line.split(',')\n",
    "l2df = pd.DataFrame(join_line)\n",
    "\n",
    "expt0_uniq=l2df.drop_duplicates(keep='first', inplace=False)\n",
    "print(type(join_line))\n",
    "print(l2df.count())\n",
    "print(expt0_uniq.count())\n",
    "expt0_uniq.head()\n",
    "\n",
    "#expt0_uniq.to_csv(\"try_target_ncov.txt\")"
   ]
  },
  {
   "cell_type": "code",
   "execution_count": 5,
   "metadata": {},
   "outputs": [
    {
     "name": "stdout",
     "output_type": "stream",
     "text": [
      "0               194\n",
      "Drugbank_ids    194\n",
      "Uniprot_ids     194\n",
      "dtype: int64\n",
      "103\n"
     ]
    },
    {
     "data": {
      "text/html": [
       "<div>\n",
       "<style scoped>\n",
       "    .dataframe tbody tr th:only-of-type {\n",
       "        vertical-align: middle;\n",
       "    }\n",
       "\n",
       "    .dataframe tbody tr th {\n",
       "        vertical-align: top;\n",
       "    }\n",
       "\n",
       "    .dataframe thead th {\n",
       "        text-align: right;\n",
       "    }\n",
       "</style>\n",
       "<table border=\"1\" class=\"dataframe\">\n",
       "  <thead>\n",
       "    <tr style=\"text-align: right;\">\n",
       "      <th></th>\n",
       "      <th>0</th>\n",
       "      <th>Drugbank_ids</th>\n",
       "      <th>Uniprot_ids</th>\n",
       "    </tr>\n",
       "  </thead>\n",
       "  <tbody>\n",
       "    <tr>\n",
       "      <th>0</th>\n",
       "      <td>P35916</td>\n",
       "      <td>DB00398</td>\n",
       "      <td>P35916</td>\n",
       "    </tr>\n",
       "    <tr>\n",
       "      <th>1</th>\n",
       "      <td>P35916</td>\n",
       "      <td>DB01268</td>\n",
       "      <td>P35916</td>\n",
       "    </tr>\n",
       "    <tr>\n",
       "      <th>2</th>\n",
       "      <td>P35916</td>\n",
       "      <td>DB04879</td>\n",
       "      <td>P35916</td>\n",
       "    </tr>\n",
       "    <tr>\n",
       "      <th>3</th>\n",
       "      <td>P35916</td>\n",
       "      <td>DB05075</td>\n",
       "      <td>P35916</td>\n",
       "    </tr>\n",
       "    <tr>\n",
       "      <th>4</th>\n",
       "      <td>P35916</td>\n",
       "      <td>DB05932</td>\n",
       "      <td>P35916</td>\n",
       "    </tr>\n",
       "  </tbody>\n",
       "</table>\n",
       "</div>"
      ],
      "text/plain": [
       "        0 Drugbank_ids Uniprot_ids\n",
       "0  P35916      DB00398      P35916\n",
       "1  P35916      DB01268      P35916\n",
       "2  P35916      DB04879      P35916\n",
       "3  P35916      DB05075      P35916\n",
       "4  P35916      DB05932      P35916"
      ]
     },
     "execution_count": 5,
     "metadata": {},
     "output_type": "execute_result"
    }
   ],
   "source": [
    "## Map unique target ids -> Drugs on Drugbank file\n",
    "\n",
    "data_merge = pd.merge(expt0_uniq, data, left_on=0, right_on='Uniprot_ids', how = 'inner')\n",
    "#data_merge[['Drugbank_ids', 'Uniprot_ids']].head()\n",
    "data_merge_uniq=data_merge['Drugbank_ids'].drop_duplicates(keep='first', inplace=False)\n",
    "print(data_merge.count())\n",
    "print(data_merge_uniq.count())\n",
    "data_merge.head()\n",
    "\n",
    "data_merge.head()"
   ]
  },
  {
   "cell_type": "code",
   "execution_count": 6,
   "metadata": {},
   "outputs": [
    {
     "name": "stdout",
     "output_type": "stream",
     "text": [
      "Drugbank_ids    103\n",
      "freq            103\n",
      "dtype: int64\n",
      "<class 'pandas.core.frame.DataFrame'>\n"
     ]
    }
   ],
   "source": [
    "## Check frequency of mapped Drugs \n",
    "#grouped = data_merge.groupby('Drugbank_ids',sort=None).size()\n",
    "grouped = data_merge.groupby(['Drugbank_ids']).Drugbank_ids.agg('count').to_frame('freq').reset_index()\n",
    "print(grouped.count())\n",
    "print (type(grouped))\n",
    "grouped_sort_uniq=grouped.sort_values(by=['freq'], ascending=False)\n",
    "grouped_sort_uniq.head()\n",
    "\n",
    "grouped_sort_uniq.to_csv(\"try_ncov.txt\")"
   ]
  },
  {
   "cell_type": "code",
   "execution_count": 7,
   "metadata": {},
   "outputs": [
    {
     "data": {
      "text/plain": [
       "<matplotlib_venn._common.VennDiagram at 0x112033ef0>"
      ]
     },
     "execution_count": 7,
     "metadata": {},
     "output_type": "execute_result"
    },
    {
     "data": {
      "image/png": "[encoded data removed]",
      "text/plain": [
       "<Figure size 432x288 with 1 Axes>"
      ]
     },
     "metadata": {},
     "output_type": "display_data"
    }
   ],
   "source": [
    "## Visualization of venn plot of Mapped Drugs and Expt anto-viral drugs\n",
    "\n",
    "data_merge_drug=set(grouped_sort_uniq['Drugbank_ids'])\n",
    "data_expt_drug=set(input_expt_pos['DrugBank_ids'])\n",
    "venn2([data_merge_drug,data_expt_drug],['Mapped_Drug', 'Expt_input'])\n",
    "#print(grouped_sort_uniq['Drugbank_ids'])"
   ]
  },
  {
   "cell_type": "code",
   "execution_count": 8,
   "metadata": {},
   "outputs": [
    {
     "name": "stdout",
     "output_type": "stream",
     "text": [
      "<class 'list'>\n",
      "<class 'pandas.core.frame.DataFrame'>\n"
     ]
    },
    {
     "data": {
      "text/html": [
       "<div>\n",
       "<style scoped>\n",
       "    .dataframe tbody tr th:only-of-type {\n",
       "        vertical-align: middle;\n",
       "    }\n",
       "\n",
       "    .dataframe tbody tr th {\n",
       "        vertical-align: top;\n",
       "    }\n",
       "\n",
       "    .dataframe thead th {\n",
       "        text-align: right;\n",
       "    }\n",
       "</style>\n",
       "<table border=\"1\" class=\"dataframe\">\n",
       "  <thead>\n",
       "    <tr style=\"text-align: right;\">\n",
       "      <th></th>\n",
       "      <th>Drugs_id_layer1</th>\n",
       "    </tr>\n",
       "  </thead>\n",
       "  <tbody>\n",
       "    <tr>\n",
       "      <th>0</th>\n",
       "      <td>DB06595</td>\n",
       "    </tr>\n",
       "    <tr>\n",
       "      <th>1</th>\n",
       "      <td>DB05434</td>\n",
       "    </tr>\n",
       "    <tr>\n",
       "      <th>2</th>\n",
       "      <td>DB05932</td>\n",
       "    </tr>\n",
       "    <tr>\n",
       "      <th>3</th>\n",
       "      <td>DB05578</td>\n",
       "    </tr>\n",
       "    <tr>\n",
       "      <th>4</th>\n",
       "      <td>DB07840</td>\n",
       "    </tr>\n",
       "  </tbody>\n",
       "</table>\n",
       "</div>"
      ],
      "text/plain": [
       "  Drugs_id_layer1\n",
       "0         DB06595\n",
       "1         DB05434\n",
       "2         DB05932\n",
       "3         DB05578\n",
       "4         DB07840"
      ]
     },
     "execution_count": 8,
     "metadata": {},
     "output_type": "execute_result"
    }
   ],
   "source": [
    "## Extract uniq mapped drugs which are not in input Expt anto-viral drugs\n",
    "\n",
    "data_layer1_uniq=data_merge_drug.difference(data_expt_drug)\n",
    "#print(data_layer1_uniq)\n",
    "data_layer1_uniq1=list(data_layer1_uniq)\n",
    "print(type(data_layer1_uniq1))\n",
    "\n",
    "## Convert uniq mapped drugs to DataFrames\n",
    "\n",
    "l2df2 = pd.DataFrame(data_layer1_uniq1, columns=[\"Drugs_id_layer1\"])\n",
    "print(type(l2df2))\n",
    "l2df2.head()"
   ]
  },
  {
   "cell_type": "code",
   "execution_count": 9,
   "metadata": {},
   "outputs": [
    {
     "name": "stdout",
     "output_type": "stream",
     "text": [
      "Drugs_id_layer1    101\n",
      "Drugbank_ids       101\n",
      "freq               101\n",
      "dtype: int64\n",
      "  Drugs_id_layer1 Drugbank_ids  freq\n",
      "0         DB06595      DB06595     4\n",
      "1         DB05434      DB05434     1\n",
      "2         DB05932      DB05932     2\n",
      "3         DB05578      DB05578     1\n",
      "4         DB07840      DB07840     1\n",
      "   Drugs_id_layer1 Drugbank_ids  freq\n",
      "7          DB12010      DB12010    11\n",
      "43         DB08896      DB08896     9\n",
      "66         DB01268      DB01268     6\n",
      "10         DB09079      DB09079     6\n",
      "15         DB09078      DB09078     6\n"
     ]
    },
    {
     "data": {
      "text/html": [
       "<div>\n",
       "<style scoped>\n",
       "    .dataframe tbody tr th:only-of-type {\n",
       "        vertical-align: middle;\n",
       "    }\n",
       "\n",
       "    .dataframe tbody tr th {\n",
       "        vertical-align: top;\n",
       "    }\n",
       "\n",
       "    .dataframe thead th {\n",
       "        text-align: right;\n",
       "    }\n",
       "</style>\n",
       "<table border=\"1\" class=\"dataframe\">\n",
       "  <thead>\n",
       "    <tr style=\"text-align: right;\">\n",
       "      <th></th>\n",
       "      <th>Drugs_id_layer1</th>\n",
       "      <th>Drugbank_ids_x</th>\n",
       "      <th>freq</th>\n",
       "      <th>Drugbank_ids_y</th>\n",
       "      <th>Drugs_name</th>\n",
       "      <th>Drug_type</th>\n",
       "    </tr>\n",
       "  </thead>\n",
       "  <tbody>\n",
       "    <tr>\n",
       "      <th>0</th>\n",
       "      <td>DB12010</td>\n",
       "      <td>DB12010</td>\n",
       "      <td>11</td>\n",
       "      <td>DB12010</td>\n",
       "      <td>Fostamatinib</td>\n",
       "      <td>SmallMoleculeDrug</td>\n",
       "    </tr>\n",
       "    <tr>\n",
       "      <th>1</th>\n",
       "      <td>DB08896</td>\n",
       "      <td>DB08896</td>\n",
       "      <td>9</td>\n",
       "      <td>DB08896</td>\n",
       "      <td>Regorafenib</td>\n",
       "      <td>SmallMoleculeDrug</td>\n",
       "    </tr>\n",
       "    <tr>\n",
       "      <th>2</th>\n",
       "      <td>DB01268</td>\n",
       "      <td>DB01268</td>\n",
       "      <td>6</td>\n",
       "      <td>DB01268</td>\n",
       "      <td>Sunitinib</td>\n",
       "      <td>SmallMoleculeDrug</td>\n",
       "    </tr>\n",
       "    <tr>\n",
       "      <th>3</th>\n",
       "      <td>DB09079</td>\n",
       "      <td>DB09079</td>\n",
       "      <td>6</td>\n",
       "      <td>DB09079</td>\n",
       "      <td>Nintedanib</td>\n",
       "      <td>SmallMoleculeDrug</td>\n",
       "    </tr>\n",
       "    <tr>\n",
       "      <th>4</th>\n",
       "      <td>DB09078</td>\n",
       "      <td>DB09078</td>\n",
       "      <td>6</td>\n",
       "      <td>DB09078</td>\n",
       "      <td>Lenvatinib</td>\n",
       "      <td>SmallMoleculeDrug</td>\n",
       "    </tr>\n",
       "    <tr>\n",
       "      <th>5</th>\n",
       "      <td>DB06080</td>\n",
       "      <td>DB06080</td>\n",
       "      <td>5</td>\n",
       "      <td>DB06080</td>\n",
       "      <td>ABT-869</td>\n",
       "      <td>SmallMoleculeDrug</td>\n",
       "    </tr>\n",
       "    <tr>\n",
       "      <th>6</th>\n",
       "      <td>DB08901</td>\n",
       "      <td>DB08901</td>\n",
       "      <td>5</td>\n",
       "      <td>DB08901</td>\n",
       "      <td>Ponatinib</td>\n",
       "      <td>SmallMoleculeDrug</td>\n",
       "    </tr>\n",
       "    <tr>\n",
       "      <th>7</th>\n",
       "      <td>DB06589</td>\n",
       "      <td>DB06589</td>\n",
       "      <td>5</td>\n",
       "      <td>DB06589</td>\n",
       "      <td>Pazopanib</td>\n",
       "      <td>SmallMoleculeDrug</td>\n",
       "    </tr>\n",
       "    <tr>\n",
       "      <th>8</th>\n",
       "      <td>DB06595</td>\n",
       "      <td>DB06595</td>\n",
       "      <td>4</td>\n",
       "      <td>DB06595</td>\n",
       "      <td>Midostaurin</td>\n",
       "      <td>SmallMoleculeDrug</td>\n",
       "    </tr>\n",
       "    <tr>\n",
       "      <th>9</th>\n",
       "      <td>DB12147</td>\n",
       "      <td>DB12147</td>\n",
       "      <td>4</td>\n",
       "      <td>DB12147</td>\n",
       "      <td>Erdafitinib</td>\n",
       "      <td>SmallMoleculeDrug</td>\n",
       "    </tr>\n",
       "    <tr>\n",
       "      <th>10</th>\n",
       "      <td>DB05014</td>\n",
       "      <td>DB05014</td>\n",
       "      <td>4</td>\n",
       "      <td>DB05014</td>\n",
       "      <td>XL999</td>\n",
       "      <td>SmallMoleculeDrug</td>\n",
       "    </tr>\n",
       "    <tr>\n",
       "      <th>11</th>\n",
       "      <td>DB05075</td>\n",
       "      <td>DB05075</td>\n",
       "      <td>3</td>\n",
       "      <td>DB05075</td>\n",
       "      <td>TG-100801</td>\n",
       "      <td>SmallMoleculeDrug</td>\n",
       "    </tr>\n",
       "    <tr>\n",
       "      <th>12</th>\n",
       "      <td>DB06626</td>\n",
       "      <td>DB06626</td>\n",
       "      <td>3</td>\n",
       "      <td>DB06626</td>\n",
       "      <td>Axitinib</td>\n",
       "      <td>SmallMoleculeDrug</td>\n",
       "    </tr>\n",
       "    <tr>\n",
       "      <th>13</th>\n",
       "      <td>DB04879</td>\n",
       "      <td>DB04879</td>\n",
       "      <td>3</td>\n",
       "      <td>DB04879</td>\n",
       "      <td>Vatalanib</td>\n",
       "      <td>SmallMoleculeDrug</td>\n",
       "    </tr>\n",
       "    <tr>\n",
       "      <th>14</th>\n",
       "      <td>DB12742</td>\n",
       "      <td>DB12742</td>\n",
       "      <td>3</td>\n",
       "      <td>DB12742</td>\n",
       "      <td>Amuvatinib</td>\n",
       "      <td>SmallMoleculeDrug</td>\n",
       "    </tr>\n",
       "    <tr>\n",
       "      <th>15</th>\n",
       "      <td>DB12978</td>\n",
       "      <td>DB12978</td>\n",
       "      <td>3</td>\n",
       "      <td>DB12978</td>\n",
       "      <td>Pexidartinib</td>\n",
       "      <td>SmallMoleculeDrug</td>\n",
       "    </tr>\n",
       "    <tr>\n",
       "      <th>16</th>\n",
       "      <td>DB05146</td>\n",
       "      <td>DB05146</td>\n",
       "      <td>3</td>\n",
       "      <td>DB05146</td>\n",
       "      <td>XL820</td>\n",
       "      <td>SmallMoleculeDrug</td>\n",
       "    </tr>\n",
       "    <tr>\n",
       "      <th>17</th>\n",
       "      <td>DB06101</td>\n",
       "      <td>DB06101</td>\n",
       "      <td>3</td>\n",
       "      <td>DB06101</td>\n",
       "      <td>IMC-1C11</td>\n",
       "      <td>BiotechDrug</td>\n",
       "    </tr>\n",
       "    <tr>\n",
       "      <th>18</th>\n",
       "      <td>DB00619</td>\n",
       "      <td>DB00619</td>\n",
       "      <td>2</td>\n",
       "      <td>DB00619</td>\n",
       "      <td>Imatinib</td>\n",
       "      <td>SmallMoleculeDrug</td>\n",
       "    </tr>\n",
       "    <tr>\n",
       "      <th>19</th>\n",
       "      <td>DB00337</td>\n",
       "      <td>DB00337</td>\n",
       "      <td>2</td>\n",
       "      <td>DB00337</td>\n",
       "      <td>Pimecrolimus</td>\n",
       "      <td>SmallMoleculeDrug</td>\n",
       "    </tr>\n",
       "  </tbody>\n",
       "</table>\n",
       "</div>"
      ],
      "text/plain": [
       "   Drugs_id_layer1 Drugbank_ids_x  freq Drugbank_ids_y    Drugs_name  \\\n",
       "0          DB12010        DB12010    11        DB12010  Fostamatinib   \n",
       "1          DB08896        DB08896     9        DB08896   Regorafenib   \n",
       "2          DB01268        DB01268     6        DB01268     Sunitinib   \n",
       "3          DB09079        DB09079     6        DB09079    Nintedanib   \n",
       "4          DB09078        DB09078     6        DB09078    Lenvatinib   \n",
       "5          DB06080        DB06080     5        DB06080       ABT-869   \n",
       "6          DB08901        DB08901     5        DB08901     Ponatinib   \n",
       "7          DB06589        DB06589     5        DB06589     Pazopanib   \n",
       "8          DB06595        DB06595     4        DB06595   Midostaurin   \n",
       "9          DB12147        DB12147     4        DB12147   Erdafitinib   \n",
       "10         DB05014        DB05014     4        DB05014         XL999   \n",
       "11         DB05075        DB05075     3        DB05075     TG-100801   \n",
       "12         DB06626        DB06626     3        DB06626      Axitinib   \n",
       "13         DB04879        DB04879     3        DB04879     Vatalanib   \n",
       "14         DB12742        DB12742     3        DB12742    Amuvatinib   \n",
       "15         DB12978        DB12978     3        DB12978  Pexidartinib   \n",
       "16         DB05146        DB05146     3        DB05146         XL820   \n",
       "17         DB06101        DB06101     3        DB06101      IMC-1C11   \n",
       "18         DB00619        DB00619     2        DB00619      Imatinib   \n",
       "19         DB00337        DB00337     2        DB00337  Pimecrolimus   \n",
       "\n",
       "            Drug_type  \n",
       "0   SmallMoleculeDrug  \n",
       "1   SmallMoleculeDrug  \n",
       "2   SmallMoleculeDrug  \n",
       "3   SmallMoleculeDrug  \n",
       "4   SmallMoleculeDrug  \n",
       "5   SmallMoleculeDrug  \n",
       "6   SmallMoleculeDrug  \n",
       "7   SmallMoleculeDrug  \n",
       "8   SmallMoleculeDrug  \n",
       "9   SmallMoleculeDrug  \n",
       "10  SmallMoleculeDrug  \n",
       "11  SmallMoleculeDrug  \n",
       "12  SmallMoleculeDrug  \n",
       "13  SmallMoleculeDrug  \n",
       "14  SmallMoleculeDrug  \n",
       "15  SmallMoleculeDrug  \n",
       "16  SmallMoleculeDrug  \n",
       "17        BiotechDrug  \n",
       "18  SmallMoleculeDrug  \n",
       "19  SmallMoleculeDrug  "
      ]
     },
     "execution_count": 9,
     "metadata": {},
     "output_type": "execute_result"
    }
   ],
   "source": [
    "## Extracting the top 20 drugs (excluding INPUT) as per the decreasing value of frequency\n",
    "\n",
    "data_merge_order = pd.merge(l2df2, grouped_sort_uniq, left_on='Drugs_id_layer1', right_on='Drugbank_ids', how = 'inner')\n",
    "print(data_merge_order.count())\n",
    "print(data_merge_order.head())\n",
    "\n",
    "grouped_sort_uniq_order=data_merge_order.sort_values(by=['freq'], ascending=False)\n",
    "print(grouped_sort_uniq_order.head())\n",
    "\n",
    "top_20=grouped_sort_uniq_order.nlargest(20,'freq')\n",
    "top_20.head()\n",
    "\n",
    "## extract the name of drugs\n",
    "\n",
    "data_drugs_name = pd.merge(top_20, data1, left_on='Drugs_id_layer1', right_on='Drugbank_ids', how='inner')\n",
    "data_drugs_name"
   ]
  },
  {
   "cell_type": "markdown",
   "metadata": {},
   "source": [
    "## Layer 2 (Negative)"
   ]
  },
  {
   "cell_type": "code",
   "execution_count": 10,
   "metadata": {},
   "outputs": [
    {
     "name": "stdout",
     "output_type": "stream",
     "text": [
      "<class 'list'>\n",
      "0    11\n",
      "dtype: int64\n",
      "0    11\n",
      "dtype: int64\n"
     ]
    },
    {
     "data": {
      "text/html": [
       "<div>\n",
       "<style scoped>\n",
       "    .dataframe tbody tr th:only-of-type {\n",
       "        vertical-align: middle;\n",
       "    }\n",
       "\n",
       "    .dataframe tbody tr th {\n",
       "        vertical-align: top;\n",
       "    }\n",
       "\n",
       "    .dataframe thead th {\n",
       "        text-align: right;\n",
       "    }\n",
       "</style>\n",
       "<table border=\"1\" class=\"dataframe\">\n",
       "  <thead>\n",
       "    <tr style=\"text-align: right;\">\n",
       "      <th></th>\n",
       "      <th>0</th>\n",
       "    </tr>\n",
       "  </thead>\n",
       "  <tbody>\n",
       "    <tr>\n",
       "      <th>0</th>\n",
       "      <td>Q02750</td>\n",
       "    </tr>\n",
       "    <tr>\n",
       "      <th>1</th>\n",
       "      <td>P41231</td>\n",
       "    </tr>\n",
       "    <tr>\n",
       "      <th>2</th>\n",
       "      <td>Q9NXA8</td>\n",
       "    </tr>\n",
       "    <tr>\n",
       "      <th>3</th>\n",
       "      <td>P23945</td>\n",
       "    </tr>\n",
       "    <tr>\n",
       "      <th>4</th>\n",
       "      <td>P21817</td>\n",
       "    </tr>\n",
       "  </tbody>\n",
       "</table>\n",
       "</div>"
      ],
      "text/plain": [
       "        0\n",
       "0  Q02750\n",
       "1  P41231\n",
       "2  Q9NXA8\n",
       "3  P23945\n",
       "4  P21817"
      ]
     },
     "execution_count": 10,
     "metadata": {},
     "output_type": "execute_result"
    }
   ],
   "source": [
    "## Input Target ids and extract unique target ids\n",
    "\n",
    "target_ids_neg = input_expt_neg['Uniprot_id']\n",
    "join_line_neg= (','.join(line for line in target_ids_neg))\n",
    "join_line_neg=join_line_neg.replace('; ',',')\n",
    "join_line_neg=join_line_neg.split(',')\n",
    "l2df_neg = pd.DataFrame(join_line_neg)\n",
    "\n",
    "expt0_uniq_neg=l2df_neg.drop_duplicates(keep='first', inplace=False)\n",
    "print(type(join_line_neg))\n",
    "print(l2df_neg.count())\n",
    "print(expt0_uniq_neg.count())\n",
    "expt0_uniq_neg.head()"
   ]
  },
  {
   "cell_type": "code",
   "execution_count": 11,
   "metadata": {},
   "outputs": [
    {
     "name": "stdout",
     "output_type": "stream",
     "text": [
      "0               170\n",
      "Drugbank_ids    170\n",
      "Uniprot_ids     170\n",
      "dtype: int64\n",
      "162\n"
     ]
    },
    {
     "data": {
      "text/html": [
       "<div>\n",
       "<style scoped>\n",
       "    .dataframe tbody tr th:only-of-type {\n",
       "        vertical-align: middle;\n",
       "    }\n",
       "\n",
       "    .dataframe tbody tr th {\n",
       "        vertical-align: top;\n",
       "    }\n",
       "\n",
       "    .dataframe thead th {\n",
       "        text-align: right;\n",
       "    }\n",
       "</style>\n",
       "<table border=\"1\" class=\"dataframe\">\n",
       "  <thead>\n",
       "    <tr style=\"text-align: right;\">\n",
       "      <th></th>\n",
       "      <th>0</th>\n",
       "      <th>Drugbank_ids</th>\n",
       "      <th>Uniprot_ids</th>\n",
       "    </tr>\n",
       "  </thead>\n",
       "  <tbody>\n",
       "    <tr>\n",
       "      <th>0</th>\n",
       "      <td>Q02750</td>\n",
       "      <td>DB02152</td>\n",
       "      <td>Q02750</td>\n",
       "    </tr>\n",
       "    <tr>\n",
       "      <th>1</th>\n",
       "      <td>Q02750</td>\n",
       "      <td>DB03115</td>\n",
       "      <td>Q02750</td>\n",
       "    </tr>\n",
       "    <tr>\n",
       "      <th>2</th>\n",
       "      <td>Q02750</td>\n",
       "      <td>DB05239</td>\n",
       "      <td>Q02750</td>\n",
       "    </tr>\n",
       "    <tr>\n",
       "      <th>3</th>\n",
       "      <td>Q02750</td>\n",
       "      <td>DB06616</td>\n",
       "      <td>Q02750</td>\n",
       "    </tr>\n",
       "    <tr>\n",
       "      <th>4</th>\n",
       "      <td>Q02750</td>\n",
       "      <td>DB06892</td>\n",
       "      <td>Q02750</td>\n",
       "    </tr>\n",
       "  </tbody>\n",
       "</table>\n",
       "</div>"
      ],
      "text/plain": [
       "        0 Drugbank_ids Uniprot_ids\n",
       "0  Q02750      DB02152      Q02750\n",
       "1  Q02750      DB03115      Q02750\n",
       "2  Q02750      DB05239      Q02750\n",
       "3  Q02750      DB06616      Q02750\n",
       "4  Q02750      DB06892      Q02750"
      ]
     },
     "execution_count": 11,
     "metadata": {},
     "output_type": "execute_result"
    }
   ],
   "source": [
    "## Map unique target ids -> Drugs on Drugbank file\n",
    "\n",
    "data_merge_neg = pd.merge(expt0_uniq_neg, data, left_on=0, right_on='Uniprot_ids', how = 'inner')\n",
    "#data_merge[['Drugbank_ids', 'Uniprot_ids']].head()\n",
    "data_merge_uniq_neg=data_merge_neg['Drugbank_ids'].drop_duplicates(keep='first', inplace=False)\n",
    "print(data_merge_neg.count())\n",
    "print(data_merge_uniq_neg.count())\n",
    "data_merge_neg.head()\n"
   ]
  },
  {
   "cell_type": "code",
   "execution_count": 12,
   "metadata": {},
   "outputs": [
    {
     "name": "stdout",
     "output_type": "stream",
     "text": [
      "Drugbank_ids    162\n",
      "freq            162\n",
      "dtype: int64\n",
      "<class 'pandas.core.frame.DataFrame'>\n",
      "    Drugbank_ids  freq\n",
      "54       DB04786     7\n",
      "14       DB01103     3\n",
      "0        DB00001     1\n",
      "110      DB07376     1\n",
      "104      DB07211     1\n"
     ]
    }
   ],
   "source": [
    "## Check frequency of mapped Drugs \n",
    "#grouped = data_merge.groupby('Drugbank_ids',sort=None).size()\n",
    "grouped_neg = data_merge_neg.groupby(['Drugbank_ids']).Drugbank_ids.agg('count').to_frame('freq').reset_index()\n",
    "print(grouped_neg.count())\n",
    "print (type(grouped_neg))\n",
    "print(grouped_neg.sort_values(by=['freq'], ascending=False).head())"
   ]
  },
  {
   "cell_type": "code",
   "execution_count": 13,
   "metadata": {},
   "outputs": [
    {
     "data": {
      "text/plain": [
       "<matplotlib_venn._common.VennDiagram at 0x12b848518>"
      ]
     },
     "execution_count": 13,
     "metadata": {},
     "output_type": "execute_result"
    },
    {
     "data": {
      "image/png": "[encoded data removed]",
      "text/plain": [
       "<Figure size 432x288 with 1 Axes>"
      ]
     },
     "metadata": {},
     "output_type": "display_data"
    }
   ],
   "source": [
    "## Visualization of venn plot of Mapped Drugs and Expt anto-viral drugs\n",
    "\n",
    "data_merge_drug_neg=set(data_merge_uniq_neg)\n",
    "data_expt_drug_neg=set(input_expt_neg['DrugBank_ids'])\n",
    "venn2([data_merge_drug_neg,data_expt_drug_neg],['Mapped_Drug', 'Expt_input'])"
   ]
  },
  {
   "cell_type": "code",
   "execution_count": 14,
   "metadata": {},
   "outputs": [
    {
     "data": {
      "text/plain": [
       "<matplotlib_venn._common.VennDiagram at 0x12b890780>"
      ]
     },
     "execution_count": 14,
     "metadata": {},
     "output_type": "execute_result"
    },
    {
     "data": {
      "image/png": "[encoded data removed]",
      "text/plain": [
       "<Figure size 432x288 with 1 Axes>"
      ]
     },
     "metadata": {},
     "output_type": "display_data"
    }
   ],
   "source": [
    "## Visualization of venn plot of Mapped Drugs and Expt anto-viral drugs\n",
    "\n",
    "data_merge_drug_pos1=set(data_layer1_uniq1)  ### excluding INPUT drugs\n",
    "data_map_drug_neg1=set(data_merge_uniq_neg)  #### including INPUT drugs\n",
    "venn2([data_merge_drug_pos1,data_map_drug_neg1],['Positive dataset', 'Negative dataset'])"
   ]
  },
  {
   "cell_type": "code",
   "execution_count": 15,
   "metadata": {},
   "outputs": [],
   "source": [
    "# data_merge_drug_pos1_common=data_map_drug_neg1.difference(data_layer1_uniq1)\n",
    "df_pos=pd.DataFrame(data_layer1_uniq1)\n",
    "df_neg=pd.DataFrame(data_merge_uniq_neg)\n",
    "df_neg\n",
    "\n",
    "data_merge10 = pd.merge(df_pos, df_neg, left_on=0, right_on='Drugbank_ids', how = 'inner')\n",
    "# data_merge10.count()\n",
    "data_merge10.to_csv(\"Done_6639/Rift/updated/Rift_common.txt\", index=False)"
   ]
  },
  {
   "cell_type": "markdown",
   "metadata": {},
   "source": [
    "### Visualization of venn plot of Mapped Drugs Targets and Expt anti-viral drug targets"
   ]
  },
  {
   "cell_type": "code",
   "execution_count": 16,
   "metadata": {},
   "outputs": [
    {
     "data": {
      "text/plain": [
       "<matplotlib_venn._common.VennDiagram at 0x1044d6a90>"
      ]
     },
     "execution_count": 16,
     "metadata": {},
     "output_type": "execute_result"
    },
    {
     "data": {
      "image/png": "[encoded data removed]",
      "text/plain": [
       "<Figure size 432x288 with 1 Axes>"
      ]
     },
     "metadata": {},
     "output_type": "display_data"
    }
   ],
   "source": [
    "## Visualization of venn plot of Mapped Drugs Targets and Expt anto-viral drug targets\n",
    "\n",
    "data_merge_drug_pos1_target=set(data_merge['Uniprot_ids'])  \n",
    "data_map_drug_neg1_target=set(data_merge_neg['Uniprot_ids'])  \n",
    "venn2([data_merge_drug_pos1_target,data_map_drug_neg1_target],['Positive dataset targets', 'Negative dataset targets'])\n"
   ]
  },
  {
   "cell_type": "markdown",
   "metadata": {},
   "source": [
    "## Common target removed from positive datasets"
   ]
  },
  {
   "cell_type": "code",
   "execution_count": 47,
   "metadata": {},
   "outputs": [
    {
     "name": "stdout",
     "output_type": "stream",
     "text": [
      "24\n",
      "<class 'pandas.core.frame.DataFrame'>\n"
     ]
    },
    {
     "data": {
      "text/html": [
       "<div>\n",
       "<style scoped>\n",
       "    .dataframe tbody tr th:only-of-type {\n",
       "        vertical-align: middle;\n",
       "    }\n",
       "\n",
       "    .dataframe tbody tr th {\n",
       "        vertical-align: top;\n",
       "    }\n",
       "\n",
       "    .dataframe thead th {\n",
       "        text-align: right;\n",
       "    }\n",
       "</style>\n",
       "<table border=\"1\" class=\"dataframe\">\n",
       "  <thead>\n",
       "    <tr style=\"text-align: right;\">\n",
       "      <th></th>\n",
       "      <th>Target_id_layer1</th>\n",
       "    </tr>\n",
       "  </thead>\n",
       "  <tbody>\n",
       "    <tr>\n",
       "      <th>0</th>\n",
       "      <td>Q9UQQ2</td>\n",
       "    </tr>\n",
       "    <tr>\n",
       "      <th>1</th>\n",
       "      <td>P28472</td>\n",
       "    </tr>\n",
       "    <tr>\n",
       "      <th>2</th>\n",
       "      <td>P07098</td>\n",
       "    </tr>\n",
       "    <tr>\n",
       "      <th>3</th>\n",
       "      <td>P21728</td>\n",
       "    </tr>\n",
       "    <tr>\n",
       "      <th>4</th>\n",
       "      <td>P16234</td>\n",
       "    </tr>\n",
       "  </tbody>\n",
       "</table>\n",
       "</div>"
      ],
      "text/plain": [
       "  Target_id_layer1\n",
       "0           Q9UQQ2\n",
       "1           P28472\n",
       "2           P07098\n",
       "3           P21728\n",
       "4           P16234"
      ]
     },
     "execution_count": 47,
     "metadata": {},
     "output_type": "execute_result"
    }
   ],
   "source": [
    "## Get unique datasets in positive which are not in negative dataset\n",
    "\n",
    "data_layer1_uniq_target=data_merge_drug_pos1_target.difference(data_map_drug_neg1_target)\n",
    "#print(data_layer1_uniq)\n",
    "data_layer1_uniq_target1=list(data_layer1_uniq_target)\n",
    "print(len(data_layer1_uniq_target))\n",
    "\n",
    "\n",
    "l2df2_target = pd.DataFrame(data_layer1_uniq_target, columns=[\"Target_id_layer1\"])\n",
    "print(type(l2df2_target))\n",
    "l2df2_target.head()"
   ]
  },
  {
   "cell_type": "code",
   "execution_count": 49,
   "metadata": {},
   "outputs": [
    {
     "name": "stdout",
     "output_type": "stream",
     "text": [
      "Target_id_layer1    582\n",
      "0                   582\n",
      "Drugbank_ids        582\n",
      "Uniprot_ids         582\n",
      "dtype: int64\n",
      "  Target_id_layer1       0 Drugbank_ids Uniprot_ids\n",
      "0           Q9UQQ2  Q9UQQ2      DB06589      Q9UQQ2\n",
      "1           P28472  P28472      DB00186      P28472\n",
      "2           P28472  P28472      DB00189      P28472\n",
      "3           P28472  P28472      DB00228      P28472\n",
      "4           P28472  P28472      DB00231      P28472\n"
     ]
    }
   ],
   "source": [
    "## Extracting the DrugBank ids from the Targets (exclusive in positive dataset)\n",
    "\n",
    "data_merge_order_target = pd.merge(l2df2_target, data_merge, left_on='Target_id_layer1', right_on='Uniprot_ids', how = 'inner')\n",
    "print(data_merge_order_target.count())\n",
    "print(data_merge_order_target.head())\n"
   ]
  },
  {
   "cell_type": "code",
   "execution_count": 51,
   "metadata": {},
   "outputs": [
    {
     "data": {
      "text/plain": [
       "Target_id_layer1    352\n",
       "0                   352\n",
       "Drugbank_ids        352\n",
       "Uniprot_ids         352\n",
       "dtype: int64"
      ]
     },
     "execution_count": 51,
     "metadata": {},
     "output_type": "execute_result"
    }
   ],
   "source": [
    "## Removal of duplicate mapped Drugs from positive datasets\n",
    "\n",
    "data_target_1=data_merge_order_target.drop_duplicates(subset='Drugbank_ids', keep='first', inplace=False)\n",
    "data_target_1.count()"
   ]
  },
  {
   "cell_type": "code",
   "execution_count": 53,
   "metadata": {},
   "outputs": [
    {
     "data": {
      "text/plain": [
       "<matplotlib_venn._common.VennDiagram at 0x1291ec5f8>"
      ]
     },
     "execution_count": 53,
     "metadata": {},
     "output_type": "execute_result"
    },
    {
     "data": {
      "image/png": "[encoded data removed]",
      "text/plain": [
       "<Figure size 432x288 with 1 Axes>"
      ]
     },
     "metadata": {},
     "output_type": "display_data"
    }
   ],
   "source": [
    "## Visualization of Positive repurposed drugs(removal of common taregts) v/s Negative repurposed drugs\n",
    "\n",
    "data_merge_drug_pos1_target1=set(data_target_1['Drugbank_ids'])  \n",
    "data_map_drug_neg1_target1=set(data_merge_uniq_neg) \n",
    "venn2([data_merge_drug_pos1_target1,data_map_drug_neg1_target1],['Positive dataset targets', 'Negative dataset targets'])\n"
   ]
  }
 ],
 "metadata": {
  "kernelspec": {
   "display_name": "Python 3",
   "language": "python",
   "name": "python3"
  },
  "language_info": {
   "codemirror_mode": {
    "name": "ipython",
    "version": 3
   },
   "file_extension": ".py",
   "mimetype": "text/x-python",
   "name": "python",
   "nbconvert_exporter": "python",
   "pygments_lexer": "ipython3",
   "version": "3.8.2"
  }
 },
 "nbformat": 4,
 "nbformat_minor": 2
}
